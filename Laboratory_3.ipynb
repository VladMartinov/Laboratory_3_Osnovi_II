{
 "cells": [
  {
   "cell_type": "markdown",
   "id": "5ddd99eb-ec62-4db3-869e-0a86aebc82c0",
   "metadata": {},
   "source": [
    "<h1>Лабораторная работа №3. \"Обучение многослойного перцептрона. Предсказание временных рядов с помощью нейросети\"</h1>\n",
    "<p>Лабораторная работа №3, Мартынов В.В., ИВТ-1, 4 курс, Физ-тех, Основы ИИ, Вариант №6</p>\n",
    "<hr>"
   ]
  },
  {
   "cell_type": "markdown",
   "id": "2141dc34-b09d-43f9-bd9d-77aa04655616",
   "metadata": {},
   "source": [
    "<h2>Чтение и обработка данных</h2>\n",
    "<p>Метод на возоде получает путь к файлу и начинает его чтение. После извлечения всех строк файла происходит очитска полностью пустых колонок и строк. После очистки данных происходит доазполнение пустых значений методом линейной интерполяции. Последним этапом становиться сглаживание данных методом скользящего среднего.</p>\n",
    "<hr>"
   ]
  },
  {
   "cell_type": "code",
   "execution_count": null,
   "id": "b348a893-ec52-429d-9e37-5e4589402dbf",
   "metadata": {},
   "outputs": [],
   "source": [
    "import csv\n",
    "import os\n",
    "\n",
    "from tkinter import Tk\n",
    "from tkinter.filedialog import askopenfilename\n",
    "\n",
    "import numpy as np\n",
    "\n",
    "from scipy.ndimage import gaussian_filter1d"
   ]
  },
  {
   "cell_type": "code",
   "execution_count": null,
   "id": "01016b3c-d851-49ac-9821-ebb72361071e",
   "metadata": {},
   "outputs": [],
   "source": [
    "def process_csv(filename):\n",
    "    data = []\n",
    "    \n",
    "    # Считывание данных и заполнение массива данными\n",
    "    with open(filename, 'r', newline='') as file:\n",
    "        reader = csv.reader(file, delimiter=';')\n",
    "        next(reader, None)\n",
    "    \n",
    "        for row in reader:\n",
    "            data.append(row)\n",
    "    \n",
    "    # Удаление пустых строк\n",
    "    data = [row for row in data if any(item.strip() for item in row)]\n",
    "    \n",
    "    transposed_data = list(zip(*data))\n",
    "    \n",
    "    # Удаление пустых столбцов\n",
    "    transposed_data = [col for col in transposed_data if any(item.strip() for item in col)]\n",
    "    \n",
    "    data = list(zip(*transposed_data))\n",
    "    \n",
    "    # Преобразование данных в числовой массив NumPy (с обработкой ошибок)\n",
    "    num_data = []\n",
    "    for row in data:\n",
    "        num_row = []\n",
    "        for item in row:\n",
    "            try:\n",
    "                num_row.append(float(item.replace(',', '.')))\n",
    "            except ValueError:\n",
    "                num_row.append(np.nan)  # Заменяем нечисловые значения на NaN\n",
    "        num_data.append(num_row)\n",
    "    \n",
    "    num_data = np.array(num_data)\n",
    "    \n",
    "    # Заполнение пропусков методом линейной интерполяции\n",
    "    for i in range(num_data.shape[1]):\n",
    "        col = num_data[:, i]\n",
    "        mask = np.isnan(col)\n",
    "        if np.any(~mask): # Проверка на наличие хотя бы одного не-NaN значения\n",
    "            col[mask] = np.interp(np.where(mask)[0], np.where(~mask)[0], col[~mask])\n",
    "        else:\n",
    "            print(f\"Предупреждение: Столбец {i+1} содержит только NaN значения. Заполнение пропусков невозможно.\")\n",
    "    \n",
    "    # Сглаживание данных методом скользящего среднего\n",
    "    smoothed_data = gaussian_filter1d(num_data, sigma=1, axis=0) # sigma - параметр сглаживания\n",
    "    \n",
    "    return smoothed_data.tolist()"
   ]
  },
  {
   "cell_type": "markdown",
   "id": "eed92978-7fa2-4a58-8fca-44a1a1de8061",
   "metadata": {},
   "source": [
    "<hr>\n",
    "<h2>Подготвка данных</h2>\n",
    "<p>Получает на вход последовательность и количество шагов. Преобразует исходнкю последовательность в обучающую выборку X, Y для модели.</p>\n",
    "<hr>"
   ]
  },
  {
   "cell_type": "code",
   "execution_count": null,
   "id": "fae33d10-9426-41f2-8d74-94327698664d",
   "metadata": {},
   "outputs": [],
   "source": [
    "def split_sequence(sequence, n_steps):\n",
    "    X, y = list(), list()\n",
    "    for i in range(len(sequence)):\n",
    "        # Нахождение конца последовательности\n",
    "        end_ix = i + n_steps\n",
    "        \n",
    "        # Проверка на выход за пределы последовательности\n",
    "        if end_ix > len(sequence) - 1:\n",
    "            break\n",
    "        \n",
    "        # Получение входных и выходных значений последовательности\n",
    "        seq_x, seq_y = sequence[i:end_ix], sequence[end_ix]\n",
    "        X.append(seq_x)\n",
    "        y.append(seq_y)\n",
    "    return np.array(X), np.array(y)"
   ]
  },
  {
   "cell_type": "markdown",
   "id": "2a01ef9c-9525-4953-b7ff-c0a0788402ef",
   "metadata": {},
   "source": [
    "<hr>\n",
    "<h2>Нахождения максимума нейронов</h2>\n",
    "<p>При помощи функции (3.3) из теоретических сведений лабораторной работы №3 будут расчиты минимум и максимум нейронов.</p>\n",
    "<hr>"
   ]
  },
  {
   "cell_type": "code",
   "execution_count": null,
   "id": "6cd9afbf-8045-4cbd-a77d-10ab5daceb88",
   "metadata": {},
   "outputs": [],
   "source": [
    "def calculate_neurons(nx, ny, np_var):\n",
    "    # Расчет количества синаптических весов\n",
    "    nw_min = (ny * np_var) / (1 + math.log2(np_var))\n",
    "    nw_max = ny * ((np_var / ny) + 1) * (nx + ny + 1) + ny\n",
    "    \n",
    "    return int(round(nw_min)), int(round(nw_max))"
   ]
  },
  {
   "cell_type": "markdown",
   "id": "179e77a3-553e-4b2a-988f-b84adbfc025d",
   "metadata": {},
   "source": [
    "<hr>\n",
    "<h2>Создание и обучение модели</h2>\n",
    "<p>Метод принимающий на вход обработанные и подготовленные данные, а так же информацию о нужной модели (количество нейронов, функцию активации и количество шагов). Распределяет полученные данные на входе на тестовую и обучающую выборку (в соотношении 1 (тестовая) к 4 (обучающая)). Создаёт модель с 2-мя слоями и полученным на входе количеством нейронов, указывается функция активации поступившая на входе. В виде оптимизатора был выбрал Adam с начальным шагом 0.05.</p>\n",
    "<hr>"
   ]
  },
  {
   "cell_type": "code",
   "execution_count": null,
   "id": "796e0703-89f3-40bf-9356-557506076384",
   "metadata": {},
   "outputs": [],
   "source": [
    "from sklearn.model_selection import train_test_split\n",
    "from keras.models import Model\n",
    "from keras.layers import Dense, Input\n",
    "import tensorflow as tf\n",
    "from tensorflow.keras.optimizers import Adam"
   ]
  },
  {
   "cell_type": "code",
   "execution_count": null,
   "id": "2b2772dc-a200-4798-bf59-f28b73d9b629",
   "metadata": {},
   "outputs": [],
   "source": [
    "def build_and_train_model(n_neurons_per_layer, activation, n_steps, X, y, loss_threshold = 0.005):\n",
    "    batch_size = 28\n",
    "    num_epochs = 75\n",
    "    \n",
    "    # Разделение данных\n",
    "    trainX, testX, trainY, testY = train_test_split(X, y, test_size = 0.3375)\n",
    "    \n",
    "    # Создание модели с использованием функционального API\n",
    "    inp = Input(shape=(n_steps,))\n",
    "    hidden = Dense(n_neurons_per_layer, activation=activation)(inp)\n",
    "    # hidden_1 = Dense(n_neurons_per_layer, activation=activation)(hidden)\n",
    "    out = Dense(1)(hidden)\n",
    "\n",
    "    model = Model(inputs=inp, outputs=out)\n",
    "    optimizer = Adam(learning_rate = 0.05)\n",
    "    model.compile(loss=tf.keras.losses.MeanSquaredError(), optimizer=optimizer)\n",
    "\n",
    "    history = model.fit(trainX, trainY,\n",
    "          batch_size = batch_size, epochs = num_epochs,\n",
    "          verbose = 1, validation_split = 0.1)\n",
    "    model.evaluate(testX, testY, verbose = 1)\n",
    "\n",
    "    return model, history"
   ]
  },
  {
   "cell_type": "markdown",
   "id": "e65ed7bc-5f54-4115-bc65-5946e53aff6d",
   "metadata": {},
   "source": [
    "<hr>\n",
    "<h2>Запсук последовательности обучения и прогнозирования данных</h2>\n",
    "<p>Главная функция программы отвечающая за последовательность выполнения всей программы.</p>\n",
    "<hr>"
   ]
  },
  {
   "cell_type": "code",
   "execution_count": null,
   "id": "7df80ef4-4326-4c2b-a639-76cd1b39ef73",
   "metadata": {},
   "outputs": [],
   "source": [
    "import matplotlib.pyplot as plt\n",
    "import math\n",
    "\n",
    "import itertools"
   ]
  },
  {
   "cell_type": "code",
   "execution_count": null,
   "id": "ebceec7f-a8c8-4087-b387-85948364a43e",
   "metadata": {},
   "outputs": [],
   "source": [
    "def main():\n",
    "    # 1. Ввод параметров пользователем\n",
    "    activation = input(\"Введите функцию активации ('tanh' или 'sigmoid'): \")\n",
    "    n_steps = int(input(\"Введите длину временного шага (n_steps): \"))\n",
    "\n",
    "    # 2. Загрузка и подготовка данных\n",
    "    filename = askopenfilename(filetypes=[(\"CSV files\", \"*.csv\")])\n",
    "    data = process_csv(filename)\n",
    "\n",
    "    # 3. Расчёт количества нейронов для слоём\n",
    "    series = np.array(data)[:, 14]  \n",
    "    X, y = split_sequence(series, n_steps)\n",
    "\n",
    "    # 4. Расчёт максимального количества нейронов скрытого слоя\n",
    "    nx = n_steps\n",
    "    ny = 1\n",
    "    np_var = len(X)\n",
    "    nw_min, nw_max = calculate_neurons(nx, ny, np_var)\n",
    "\n",
    "    # 5. Ввод количества нейронов пользователем\n",
    "    n_neurons_per_layer = int(input(f\"Введите количество нейронов в каждом из скрытых слоев (минимум {nw_min}, максимум {nw_max}): \"))\n",
    "    \n",
    "    # Проверка на корректность ввода\n",
    "    if n_neurons_per_layer < nw_min or n_neurons_per_layer > nw_max:\n",
    "        print(\"Ошибка ввода числа нейронов. Завершение работы.\")\n",
    "        return\n",
    "\n",
    "    # Исходя и формулы 3.3 расчитываем итоговое количество нейронов в скрытыхъ слоях\n",
    "    n_neurons_per_layer = n_neurons_per_layer / (nx + ny)\n",
    "    n_neurons_per_layer = int(round(n_neurons_per_layer))\n",
    "    \n",
    "    # 6. Создание и обучение модели\n",
    "    model, history = build_and_train_model(n_neurons_per_layer, activation, n_steps, X, y)\n",
    "\n",
    "    # 7. Анализ эффективности и вывод результатов\n",
    "    print(model.summary())\n",
    "    plt.plot(history.history['loss'])\n",
    "    plt.plot(history.history['val_loss'])\n",
    "    plt.title('Model loss')\n",
    "    plt.ylabel('Loss')\n",
    "    plt.xlabel('Epoch')\n",
    "    plt.legend(['Train', 'Test'], loc='upper right')\n",
    "    plt.show()\n",
    "\n",
    "    # 8. Сохранение обученной модели\n",
    "    model.save('best_model.h5')"
   ]
  },
  {
   "cell_type": "code",
   "execution_count": null,
   "id": "39cf426d-7ca7-40a5-92c8-70b2981c7745",
   "metadata": {},
   "outputs": [],
   "source": [
    "def main_test():\n",
    "    # 2. Загрузка и подготовка данных\n",
    "    filename = askopenfilename(filetypes=[(\"CSV files\", \"*.csv\")])\n",
    "    data = process_csv(filename)\n",
    "\n",
    "    # Комбинации для обучения\n",
    "    n_neurons_combinations = [10, 15, 20, 25]\n",
    "    n_steps_combinations = [4]\n",
    "\n",
    "    # Функция активации\n",
    "    activation_function_list = ['tanh', 'sigmoid']\n",
    "    \n",
    "    best_model = None\n",
    "    min_val_loss = float('inf') # Начальное значение, гарантирующее, что val_loss любой модели будет меньше\n",
    "\n",
    "    # 3. Цикл по комбинациям\n",
    "    for activation_function, n_neurons, n_steps in itertools.product(activation_function_list, n_neurons_combinations, n_steps_combinations):\n",
    "        print(f\"Функция активации: {activation_function}, Количество нейронов: {n_neurons}, Количество временных шагов: {n_steps}\")\n",
    "        \n",
    "        series = np.array(data)[:, 14]\n",
    "        X, y = split_sequence(series, n_steps)\n",
    "        \n",
    "        nx = n_steps\n",
    "        ny = 1\n",
    "        np_var = len(X)\n",
    "        nw_min, nw_max = calculate_neurons(nx, ny, np_var)\n",
    "\n",
    "        model, history = build_and_train_model(n_neurons, activation_function, n_steps, X, y)\n",
    "        print(model.summary())\n",
    "\n",
    "        # ... (остальной вывод результатов) ...\n",
    "        plt.plot(history.history['loss'])\n",
    "        plt.plot(history.history['val_loss'])\n",
    "        plt.title('Model loss')\n",
    "        plt.ylabel('Loss')\n",
    "        plt.xlabel('Epoch')\n",
    "        plt.legend(['Train', 'Test'], loc='upper right')\n",
    "        plt.show()\n",
    "\n",
    "        val_loss = history.history['val_loss'][-1] # Берем val_loss из последней эпохи\n",
    "        \n",
    "        if val_loss < min_val_loss:\n",
    "            min_val_loss = val_loss\n",
    "            best_model = model\n",
    "\n",
    "    # Сохранение лучшей модели (еще один вариант - проверка на наличие файла)\n",
    "    if best_model:\n",
    "        best_model.save('best_model.h5')\n",
    "        print(f\"Лучшая модель сохранена в best_model.h5 (val_loss = {min_val_loss})\")"
   ]
  },
  {
   "cell_type": "code",
   "execution_count": null,
   "id": "bef80604-484d-4c99-abee-3168e69a9b82",
   "metadata": {},
   "outputs": [],
   "source": [
    "if __name__ == \"__main__\":\n",
    "    # main()\n",
    "    main_test()"
   ]
  },
  {
   "cell_type": "markdown",
   "id": "0923251d-2b34-49da-bbe6-32258c933060",
   "metadata": {},
   "source": [
    "<hr>\n",
    "<h2>Предсказание данных</h2>\n",
    "<p>Функция выполняющаяся после обучения и сохранения модели. Находит лучшую сохранённую модель и на основе входных данных предсказывает будущее значение.</p>\n",
    "<hr>"
   ]
  },
  {
   "cell_type": "code",
   "execution_count": null,
   "id": "6f44ab44-33f0-4614-a35b-34b8d48c59f2",
   "metadata": {},
   "outputs": [],
   "source": [
    "from tensorflow.keras.models import load_model"
   ]
  },
  {
   "cell_type": "code",
   "execution_count": null,
   "id": "390a0a17-9544-40f4-b6a2-d5da620932a4",
   "metadata": {},
   "outputs": [],
   "source": [
    "# Загрузка и тестирование лучшей модели\n",
    "if os.path.exists('best_model.h5'):\n",
    "    best_model = load_model('best_model.h5')\n",
    "    # Ниже указаны данные для предсказания. На вход модели подавался набор из 4 данных.\n",
    "    X_test = [0.7568, 0.7119, 0.6406, 0.7139]\n",
    "\n",
    "    X_test = np.array([X_test])\n",
    "    predictions = best_model.predict(X_test)[0][0]\n",
    "\n",
    "    class_boundaries = [0, 0.25, 0.5, 0.75, 1.0, 1.25, 1.5]\n",
    "    predicted_class_index = -1 # Инициализация\n",
    "    \n",
    "    if predictions <= class_boundaries[0]:\n",
    "        predicted_class_index = 0\n",
    "    elif predictions <= class_boundaries[1]:\n",
    "        predicted_class_index = 1\n",
    "    elif predictions <= class_boundaries[2]:\n",
    "        predicted_class_index = 2\n",
    "    elif predictions <= class_boundaries[3]:\n",
    "        predicted_class_index = 3\n",
    "    elif predictions <= class_boundaries[4]:\n",
    "        predicted_class_index = 4\n",
    "    elif predictions <= class_boundaries[5]:\n",
    "        predicted_class_index = 5\n",
    "    else:\n",
    "        predicted_class_index = 6\n",
    "\n",
    "    predicted_class = predicted_class_index + 1\n",
    "    upper_bound = class_boundaries[predicted_class_index + 1] if predicted_class_index + 1 < len(class_boundaries) else \"∞\"  # Разделение на два этапа\n",
    "    predicted_interval = f\"{class_boundaries[predicted_class_index]:.2f} - {upper_bound}\"\n",
    "    \n",
    "    print(f\"Предсказанное значение: {predicted_value:.4f}\")\n",
    "    print(f\"Предсказанный класс (индекс): {predicted_class_index}\")\n",
    "    print(f\"Предсказанный класс: {predicted_class}\")\n",
    "    print(f\"Предсказанный интервал: {predicted_interval}\")"
   ]
  },
  {
   "cell_type": "code",
   "execution_count": null,
   "id": "d4c7efb7-bd70-4c6f-95b7-a81dd348e629",
   "metadata": {},
   "outputs": [],
   "source": []
  }
 ],
 "metadata": {
  "kernelspec": {
   "display_name": "Python 3 (ipykernel)",
   "language": "python",
   "name": "python3"
  },
  "language_info": {
   "codemirror_mode": {
    "name": "ipython",
    "version": 3
   },
   "file_extension": ".py",
   "mimetype": "text/x-python",
   "name": "python",
   "nbconvert_exporter": "python",
   "pygments_lexer": "ipython3",
   "version": "3.12.7"
  }
 },
 "nbformat": 4,
 "nbformat_minor": 5
}
